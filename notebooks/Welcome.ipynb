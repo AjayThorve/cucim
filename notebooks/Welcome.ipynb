{
 "cells": [
  {
   "cell_type": "markdown",
   "id": "willing-protest",
   "metadata": {},
   "source": [
    "# Welcome to cuCIM\n",
    "\n",
    "- [Basic Usage](Basic_Usage.ipynb)\n",
    "- [Accessing File with GDS](Accessing_File_with_GDS.ipynb)\n",
    "- [File-access Experiments on TIFF File](File-access_Experiments_on_TIFF.ipynb)\n",
    "- [Working with DALI](Working_with_DALI.ipynb)\n",
    "- [Single-process Tests](Single-process_Tests.ipynb)\n",
    "- [Multi-thread and Multi-process Tests](Multi-thread_and_Multi-process_Tests.ipynb)\n",
    "\n"
   ]
  }
 ],
 "metadata": {
  "kernelspec": {
   "display_name": "Python 3",
   "language": "python",
   "name": "python3"
  },
  "language_info": {
   "codemirror_mode": {
    "name": "ipython",
    "version": 3
   },
   "file_extension": ".py",
   "mimetype": "text/x-python",
   "name": "python",
   "nbconvert_exporter": "python",
   "pygments_lexer": "ipython3",
   "version": "3.6.9"
  }
 },
 "nbformat": 4,
 "nbformat_minor": 5
}
